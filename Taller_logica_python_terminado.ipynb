{
  "nbformat": 4,
  "nbformat_minor": 0,
  "metadata": {
    "colab": {
      "provenance": [],
      "include_colab_link": true
    },
    "kernelspec": {
      "name": "python3",
      "display_name": "Python 3"
    },
    "language_info": {
      "name": "python"
    }
  },
  "cells": [
    {
      "cell_type": "markdown",
      "metadata": {
        "id": "view-in-github",
        "colab_type": "text"
      },
      "source": [
        "<a href=\"https://colab.research.google.com/github/kata1808/evacss/blob/main/Taller_logica_python_terminado.ipynb\" target=\"_parent\"><img src=\"https://colab.research.google.com/assets/colab-badge.svg\" alt=\"Open In Colab\"/></a>"
      ]
    },
    {
      "cell_type": "code",
      "execution_count": null,
      "metadata": {
        "id": "WPJA6Vj1SBOc"
      },
      "outputs": [],
      "source": [
        "# 1- Escribe un programa que calcule el área y el perímetro de un rectángulo.\n",
        "#El programa debe pedir al usuario que ingrese la longitud y la anchura del rectángulo y luego\n",
        "#mostrar el área y el perímetro.\n",
        "\n",
        "lon = int(input(\"Ingresa la longitud del rectangulo \"))\n",
        "anc = (int(input(\"ingrese el ancho del rectangulo \")))\n",
        "\n",
        "area = lon * anc\n",
        "print(f\"El area es: \", area)\n",
        "\n",
        "peri = 2 *(lon + anc)\n",
        "print(f\"El perimetro es: \", peri)"
      ]
    },
    {
      "cell_type": "code",
      "source": [
        "# 2- Escribe un programa que pida al usuario un número y determine si el número\n",
        "#es positivo, negativo o cero o si es superior a 100.\n",
        "\n",
        "num = (int(input(\"Digite un numero \")))\n",
        "\n",
        "if num > 100:\n",
        "    print(\"El numero es mayor a 100\")\n",
        "if num > 0:\n",
        "    print(\"El numero es POSITIVO\")\n",
        "elif num < 0:\n",
        "    print(\"El numero es NEGATIVO\")\n",
        "else:\n",
        "    print(\"El numero es CERO\")"
      ],
      "metadata": {
        "colab": {
          "base_uri": "https://localhost:8080/"
        },
        "id": "Ig2BQl2nSO3i",
        "outputId": "fdfb3c1c-e544-4681-c70a-bb49e391146b"
      },
      "execution_count": null,
      "outputs": [
        {
          "output_type": "stream",
          "name": "stdout",
          "text": [
            "Digite un numero 5\n",
            "El numero es POSITIVO\n"
          ]
        }
      ]
    },
    {
      "cell_type": "code",
      "source": [
        "# 3- Escribe un programa que imprima todos los números pares del 1 al 100.\n",
        "#usa el módulo % para verificar si los números son pares o impares\n",
        "\n",
        "for i in range(1, 101):\n",
        "    if i % 2 == 0:\n",
        "        print(i)"
      ],
      "metadata": {
        "id": "08VfW9eMSfEa"
      },
      "execution_count": null,
      "outputs": []
    },
    {
      "cell_type": "code",
      "source": [
        "# 4- Escribe una función llamada es_primo que determine si un número dado es primo.\n",
        "#Usa esta función en un programa que pida al usuario un número y le diga si es primo\n",
        "#o no y tenga en cuenta los siguiente Un número primo es aquel que solo es divisible por 1\n",
        "#y por sí mismo, - Prueba la divisibilidad de un número usando un bucle y guarda todo el resultado\n",
        "#obtenido en una lista.\n",
        "\n",
        "es_primo = (int(input(\"Digite un numero \")))\n",
        "if es_primo % 2 ==0:\n",
        "    print(\"El numero es PAR\")\n",
        "else:\n",
        "    print(\"El numero es PRIMO\")"
      ],
      "metadata": {
        "colab": {
          "base_uri": "https://localhost:8080/"
        },
        "id": "4awewyoRSn2C",
        "outputId": "f66358a5-886e-4948-b687-5b848c8b1f8f"
      },
      "execution_count": null,
      "outputs": [
        {
          "output_type": "stream",
          "name": "stdout",
          "text": [
            "Digite un numero 8\n",
            "El numero es PAR\n"
          ]
        }
      ]
    },
    {
      "cell_type": "code",
      "source": [
        "# 5-  Crea un programa que pida dos números enteros al usuario\n",
        "#y diga si alguno de ellos es múltiplo del otro.\n",
        "#Crea una función Es Múltiplo que reciba los dos números,\n",
        "#y devuelve si el primero es múltiplo del segundo.\n",
        "\n",
        "def es_multiplo (num1, num2):\n",
        "    return num1 % num2 ==0\n",
        "\n",
        "def main():\n",
        "        numero1 = int(input(\"Ingresa un numero entero \"))\n",
        "        numero2 = int(input(\"Ingresa otro numero entero \"))\n",
        "\n",
        "        if es_multiplo(numero1, numero2):\n",
        "            print(f\"{numero1} es multiplo de {numero2}\")\n",
        "\n",
        "        elif es_multiplo(numero2, numero1):\n",
        "            print(f\"{numero2}, es multiplo de {numero1}\")\n",
        "        else:\n",
        "            print(f\"Ninguno de los dos es multiplo del otro\")\n",
        "main()"
      ],
      "metadata": {
        "id": "AnbJMYIGSsjy"
      },
      "execution_count": null,
      "outputs": []
    },
    {
      "cell_type": "code",
      "source": [
        "# 6- Crea un Programa que al ingresar números de 2, 3 y cuatro cifras,\n",
        "#pueda colocar los números al contrario de su orden habitualgenerando\n",
        "#al final un número al revés,\n",
        "\n",
        "def invertir_numero(numero):\n",
        "\n",
        "    numero_invertido = str(numero)[::-1]\n",
        "    return numero_invertido\n",
        "\n",
        "def main():\n",
        "    numero = input(\"Introduce un número de 2, 3 o 4 cifras: \")\n",
        "\n",
        "\n",
        "    if 2 <= len(numero) <= 4 and numero.isdigit():\n",
        "        numero_invertido = invertir_numero(numero)\n",
        "        print(f\"El número {numero} al revés es {numero_invertido}\")\n",
        "    else:\n",
        "        print(\"Por favor, introduce un número válido de 2, 3 o 4 cifras.\")\n",
        "\n",
        "\n",
        "main()\n"
      ],
      "metadata": {
        "id": "7pYXkjjKSxfj"
      },
      "execution_count": null,
      "outputs": []
    },
    {
      "cell_type": "code",
      "source": [
        "# 6- Crea un Programa que, al ingresar números de 2, 3 y cuatro cifras,\n",
        "#pueda colocar los números al contrario de su orden habitual generando al\n",
        "#final un número al revés, Exp 1234, Res: 432.\n",
        "\n",
        "def invertir_numero(numero):\n",
        "    numero_invertido = str(numero)[::-1]\n",
        "    return int(numero_invertido)\n",
        "\n",
        "def main():\n",
        "    numero = input(\"Introduce un número de 2, 3 o 4 cifras: \")\n",
        "\n",
        "    if 2 <= len(numero) <= 4 and numero.isdigit():\n",
        "        numero_invertido = invertir_numero(numero)\n",
        "        print(f\"El número {numero} al revés es {numero_invertido}\")\n",
        "    else:\n",
        "        print(\"Por favor, introduce un número válido de 2, 3 o 4 cifras.\")\n",
        "\n",
        "main()\n"
      ],
      "metadata": {
        "id": "uT99da-gTA70"
      },
      "execution_count": null,
      "outputs": []
    },
    {
      "cell_type": "code",
      "source": [
        "# 7- En una cadena de alimentos de comidas rápidas “Frisby”, se tiene una promoción con un descuento del 15% por el consumo de 3 productos cuyo costo sea mayor a $30.000. realice un programa que permita generar descuento y precio total\n",
        "\n",
        "def calcular_descuento(precio_producto1, precio_producto2, precio_producto3):\n",
        "  total = precio_producto1 + precio_producto2 + precio_producto3\n",
        "  if total > 30000:\n",
        "    descuento = 0.15 * total\n",
        "    precio_final = total - descuento\n",
        "    return precio_final\n",
        "  else:\n",
        "    return total\n",
        "\n",
        "precio_producto1 = 12000\n",
        "precio_producto2 = 15000\n",
        "precio_producto3 = 18000\n",
        "\n",
        "precio_final = calcular_descuento(precio_producto1, precio_producto2, precio_producto3)\n",
        "\n",
        "print(f\"El precio final con descuento es: {precio_final}\")\n"
      ],
      "metadata": {
        "id": "lvEicduITF37"
      },
      "execution_count": null,
      "outputs": []
    },
    {
      "cell_type": "code",
      "source": [
        "# 8- Realiza un algoritmo que permita calcular el impuesto del 19% IVA\n",
        "# en el caso de que la compra supere los $2400.000 debe capturar la retención\n",
        "# del 11%, de lo contrario se escribirá “Ninguno” Además, utilizaremos un diccionario para almacenar y mostrar los resultados.\n",
        "\n",
        "def calcular_impuestos(valor):\n",
        "  impuestos = {}\n",
        "  if valor > 2400000:\n",
        "    iva = valor * 0.19\n",
        "    retencion = valor * 0.11\n",
        "    impuestos[\"IVA\"] = iva\n",
        "    impuestos[\"Retención\"] = retencion\n",
        "  else:\n",
        "    impuestos[\"IVA\"] = \"Ninguno\"\n",
        "    impuestos[\"Retención\"] = \"Ninguno\"\n",
        "  return impuestos\n",
        "\n",
        "valor = 2500000\n",
        "impuestos = calcular_impuestos(valor)\n",
        "\n",
        "print(f\"Valor: {valor}\")\n",
        "print(f\"IVA: {impuestos['IVA']}\")\n",
        "print(f\"Retención: {impuestos['Retención']}\")\n"
      ],
      "metadata": {
        "id": "hqopRb5htrnc"
      },
      "execution_count": null,
      "outputs": []
    },
    {
      "cell_type": "code",
      "source": [
        "# 8- Realiza un algoritmo que permita calcular el impuesto del 19% IVA\n",
        "#en el caso de que la compra supere los $2400.000 debe capturar la retención\n",
        "#del 11%, de lo contrario se escribirá “Ninguno” Además, utilizaremos un\n",
        "#diccionario para almacenar y mostrar los resultados.\n",
        "\n",
        "\n",
        "def calcular_impuesto(compra):\n",
        "\n",
        "\n",
        "  if compra > 2400000:\n",
        "    impuesto = compra * 0.19\n",
        "    return {\"impuesto\": impuesto, \"retencion\": 0}\n",
        "  else:\n",
        "    return {\"impuesto\": 0, \"retencion\": compra * 0.11}\n",
        "\n",
        "# Ejemplo de uso:\n",
        "compra = 2500000\n",
        "resultado = calcular_impuesto(compra)\n",
        "\n",
        "print(\"Impuesto:\", resultado[\"impuesto\"])\n",
        "print(\"Retención:\", resultado[\"retencion\"])"
      ],
      "metadata": {
        "colab": {
          "base_uri": "https://localhost:8080/"
        },
        "id": "XfBVEOGwZx7R",
        "outputId": "9bffd667-66e6-4ecb-d64b-30aee176e735"
      },
      "execution_count": null,
      "outputs": [
        {
          "output_type": "stream",
          "name": "stdout",
          "text": [
            "Impuesto: 475000.0\n",
            "Retención: 0\n"
          ]
        }
      ]
    },
    {
      "cell_type": "code",
      "source": [
        "# 8.1- Realiza el anterior ejercicio usando la estructura de If lineal\n",
        "\n",
        "def calcular_impuesto(compra):\n",
        "  if compra > 2400000:\n",
        "    impuesto = compra * 0.19\n",
        "    return impuesto\n",
        "  else:\n",
        "    retencion = compra * 0.11\n",
        "    return retencion\n",
        "\n",
        "# Ejemplo de uso:\n",
        "compra = 2500000\n",
        "impuesto_o_retencion = calcular_impuesto(compra)\n",
        "\n",
        "if compra > 2400000:\n",
        "  print(\"Impuesto:\", impuesto_o_retencion)\n",
        "else:\n",
        "  print(\"Retención:\", impuesto_o_retencion)\n"
      ],
      "metadata": {
        "id": "JgCdWImraBai"
      },
      "execution_count": null,
      "outputs": []
    },
    {
      "cell_type": "code",
      "source": [
        "# 9 - En este ejercicio, crea un programa que calcule el monto final a pagar\n",
        "#a un trabajador, considerando su salario básico y la cantidad de faltas que\n",
        "#ha tenido durante el mes. Si el trabajador falta dos o más veces, se le\n",
        "#aplicará una amonestación económica del 5% sobre su salario básico agrega por\n",
        "#último la respuesta a un diccionario donde se encuentren los datos del trabajador.\n",
        "\n",
        "def calcular_pago(salario_basico, faltas):\n",
        "  if faltas >= 2:\n",
        "    amonestacion = salario_basico * 0.05\n",
        "    salario_neto = salario_basico - amonestacion\n",
        "  else:\n",
        "    salario_neto = salario_basico\n",
        "\n",
        "  datos_trabajador = {\n",
        "    \"salario_basico\": salario_basico,\n",
        "    \"faltas\": faltas,\n",
        "    \"amonestacion\": amonestacion,\n",
        "    \"salario_neto\": salario_neto\n",
        "  }\n",
        "  return datos_trabajador\n",
        "\n",
        "# Ejemplo de uso:\n",
        "salario_basico = 1000000\n",
        "faltas = 3\n",
        "\n",
        "datos_trabajador = calcular_pago(salario_basico, faltas)\n",
        "\n",
        "print(datos_trabajador)\n"
      ],
      "metadata": {
        "colab": {
          "base_uri": "https://localhost:8080/"
        },
        "id": "BxtGL8YIab4D",
        "outputId": "fe4ab879-dc70-40be-91a0-10404903d936"
      },
      "execution_count": null,
      "outputs": [
        {
          "output_type": "stream",
          "name": "stdout",
          "text": [
            "{'salario_basico': 1000000, 'faltas': 3, 'amonestacion': 50000.0, 'salario_neto': 950000.0}\n"
          ]
        }
      ]
    },
    {
      "cell_type": "code",
      "source": [
        "# 10- Escribe un programa que calcule la temperatura media de un día a partir\n",
        "#de la temperatura máxima y mínima. Además, crearás un programa principal que\n",
        "#solicita al usuario la temperatura máxima y mínima de cada día y muestra la\n",
        "#temperatura media correspondiente. El programa debe pedir al usuario el número\n",
        "#de días para los que se ingresarán datos.\n",
        "\n",
        "def calcular_temperatura_media(maxima, minima):\n",
        "    return (maxima + minima) / 2\n",
        "\n",
        "def programa_principal():\n",
        "\n",
        "    num_dias = int(input(\"Ingrese el número de días para los que desea ingresar datos: \"))\n",
        "\n",
        "    for dia in range(1, num_dias + 1):\n",
        "\n",
        "        maxima = float(input(f\"Ingrese la temperatura máxima para el día {dia}: \"))\n",
        "        minima = float(input(f\"Ingrese la temperatura mínima para el día {dia}: \"))\n",
        "\n",
        "\n",
        "        temperatura_media = calcular_temperatura_media(maxima, minima)\n",
        "\n",
        "\n",
        "        print(f\"La temperatura media para el día {dia} es: {temperatura_media:.2f} °C\")\n",
        "\n",
        "\n",
        "programa_principal()\n",
        "\n"
      ],
      "metadata": {
        "id": "2Ek9TP9Har3j"
      },
      "execution_count": null,
      "outputs": []
    },
    {
      "cell_type": "code",
      "source": [
        "# 11- Escribe un programa que muestre la tabla de multiplicar de un número\n",
        "#introducido por el usuario. El programa debe pedir al usuario que introduzca\n",
        "#un número y luego mostrar su tabla de multiplicar desde el 1 hasta N\n",
        "#(número introducido). Además, utilizaremos un diccionario para almacenar y\n",
        "#mostrar los resultados de la tabla de multiplicar\n",
        "\n",
        "def tabla_multiplicar(numero):\n",
        "\n",
        "  tabla = {}\n",
        "\n",
        "  for i in range(1, 11):\n",
        "    tabla[i] = numero * i\n",
        "\n",
        "  print(f\"Tabla de multiplicar del {numero}:\")\n",
        "  for clave, valor in tabla.items():\n",
        "    print(f\"{numero} x {clave} = {valor}\")\n",
        "\n",
        "numero = int(input(\"Introduce un número para calcular su tabla de multiplicar: \"))\n",
        "\n",
        "\n",
        "tabla_multiplicar(numero)\n"
      ],
      "metadata": {
        "colab": {
          "base_uri": "https://localhost:8080/"
        },
        "id": "vP45E0m_bLW8",
        "outputId": "93ac2bf8-ee1e-46a8-917a-f745c2f11c72"
      },
      "execution_count": null,
      "outputs": [
        {
          "output_type": "stream",
          "name": "stdout",
          "text": [
            "Introduce un número para calcular su tabla de multiplicar: 8\n",
            "Tabla de multiplicar del 8:\n",
            "8 x 1 = 8\n",
            "8 x 2 = 16\n",
            "8 x 3 = 24\n",
            "8 x 4 = 32\n",
            "8 x 5 = 40\n",
            "8 x 6 = 48\n",
            "8 x 7 = 56\n",
            "8 x 8 = 64\n",
            "8 x 9 = 72\n",
            "8 x 10 = 80\n"
          ]
        }
      ]
    },
    {
      "cell_type": "code",
      "source": [
        "# 12-: En una pequeña comunidad en la ciudad de Envigado, se ha llevado a\n",
        "#cabo una elección para elegir al próximo presidente de la empresa empanadas\n",
        "#pepito. Tres candidatos han participado, y se han registrado 150 votos\n",
        "#(Estos votos serán totalmente aleatorios). Nuestro objetivo es determinar el\n",
        "#ganador, su cantidad de votos y el porcentaje de votos de cada candidato.\n",
        "#En una pequeña comunidad en la ciudad de Envigado, se ha llevado a cabo una\n",
        "#elección para elegir al próximo presidente de la empresa empanadas pepito.\n",
        "#Tres candidatos han participado, y se han registrado 150 votos (Estos votos\n",
        "#serán totalmente aleatorios). Nuestro objetivo es determinar el ganador, su\n",
        "#cantidad de votos y el porcentaje de votos de cada candidato. Escribe un\n",
        "#programa en python que lea 150 votos otorgados a 3 candidatos a presidente de\n",
        "#la empresa pepito, y determina el número del candidato ganador y su cantidad\n",
        "#de votos, y calcula los porcentajes de votos para cada uno de los candidato\n",
        "import random\n",
        "\n",
        "# Simulación de los 150 votos aleatorios\n",
        "votos = [random.choice([1, 2, 3]) for _ in range(150)]\n",
        "\n",
        "# Contar los votos para cada candidato\n",
        "votos_candidato_1 = votos.count(1)\n",
        "votos_candidato_2 = votos.count(2)\n",
        "votos_candidato_3 = votos.count(3)\n",
        "\n",
        "# Determinar el ganador\n",
        "candidatos = {\n",
        "    1: votos_candidato_1,\n",
        "    2: votos_candidato_2,\n",
        "    3: votos_candidato_3\n",
        "}\n",
        "\n",
        "ganador = max(candidatos, key=candidatos.get)\n",
        "\n",
        "# Calcular los porcentajes\n",
        "total_votos = len(votos)\n",
        "porcentaje_candidato_1 = (votos_candidato_1 / total_votos) * 100\n",
        "porcentaje_candidato_2 = (votos_candidato_2 / total_votos) * 100\n",
        "porcentaje_candidato_3 = (votos_candidato_3 / total_votos) * 100\n",
        "\n",
        "# Mostrar los resultados\n",
        "print(f\"Candidato 1: {votos_candidato_1} votos, {porcentaje_candidato_1:.2f}%\")\n",
        "print(f\"Candidato 2: {votos_candidato_2} votos, {porcentaje_candidato_2:.2f}%\")\n",
        "print(f\"Candidato 3: {votos_candidato_3} votos, {porcentaje_candidato_3:.2f}%\")\n",
        "print(f\"El ganador es el candidato {ganador} con {candidatos[ganador]} votos.\")\n"
      ],
      "metadata": {
        "id": "svnJw27db7-M"
      },
      "execution_count": null,
      "outputs": []
    }
  ]
}